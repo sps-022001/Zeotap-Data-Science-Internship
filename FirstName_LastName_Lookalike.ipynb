{
  "nbformat": 4,
  "nbformat_minor": 0,
  "metadata": {
    "colab": {
      "provenance": []
    },
    "kernelspec": {
      "name": "python3",
      "display_name": "Python 3"
    },
    "language_info": {
      "name": "python"
    }
  },
  "cells": [
    {
      "cell_type": "code",
      "execution_count": null,
      "metadata": {
        "id": "IL1kTZ3qkyQT"
      },
      "outputs": [],
      "source": []
    },
    {
      "source": [
        "import pandas as pd\n",
        "from sklearn.metrics.pairwise import cosine_similarity\n",
        "from sklearn.preprocessing import StandardScaler\n",
        "\n",
        "# Load datasets\n",
        "customers_path = '/content/Customers (1).csv'\n",
        "products_path = '/content/Products (1).csv'\n",
        "transactions_path ='/content/Transactions.csv'\n",
        "\n",
        "# Read files into DataFrames\n",
        "customers_df = pd.read_csv(customers_path)\n",
        "products_df = pd.read_csv(products_path)\n",
        "transactions_df = pd.read_csv(transactions_path)\n",
        "\n",
        "# Merge data to create a combined dataset\n",
        "transactions_df = transactions_df.merge(customers_df, on='CustomerID', how='left')\n",
        "transactions_df = transactions_df.merge(products_df, on='ProductID', how='left')\n",
        "\n",
        "# Aggregate transaction data by CustomerID\n",
        "# Changed aggregation to avoid KeyError, added merging to get Price\n",
        "customer_features = transactions_df.groupby('CustomerID').agg({\n",
        "    'TotalValue': 'sum',\n",
        "    'Quantity': 'sum',\n",
        "    'ProductID': lambda x: x.mode()[0], # Using ProductID for aggregation and then merging to get Price\n",
        "    'Region': lambda x: x.mode()[0],\n",
        "    'Category': lambda x: x.mode()[0]\n",
        "}).reset_index()\n",
        "\n",
        "customer_features = customer_features.merge(products_df[['ProductID', 'Price']], on='ProductID', how='left') # Merging to get Price\n",
        "customer_features = customer_features.drop('ProductID', axis=1)  # Dropping ProductID if not needed\n",
        "\n",
        "\n",
        "# Encode categorical features (Region and Category)\n",
        "customer_features = pd.get_dummies(customer_features, columns=['Region', 'Category'], drop_first=True)\n",
        "\n",
        "# Standardize the numerical features\n",
        "scaler = StandardScaler()\n",
        "scaled_features = scaler.fit_transform(customer_features.drop('CustomerID', axis=1))\n",
        "\n",
        "# Calculate cosine similarity\n",
        "similarity_matrix = cosine_similarity(scaled_features)\n",
        "\n",
        "# Find top 3 similar customers for each customer\n",
        "def find_similar_customers(customer_id, similarity_matrix, customer_ids, top_n=3):\n",
        "    customer_idx = customer_ids.index(customer_id)\n",
        "    similarity_scores = list(enumerate(similarity_matrix[customer_idx]))\n",
        "    similarity_scores = sorted(similarity_scores, key=lambda x: x[1], reverse=True)\n",
        "    top_customers = [(customer_ids[i[0]], i[1]) for i in similarity_scores[1:top_n+1]]\n",
        "    return top_customers\n",
        "\n",
        "# Get customer IDs\n",
        "customer_ids = customer_features['CustomerID'].tolist()\n",
        "\n",
        "# Generate recommendations for the first 20 customers\n",
        "lookalike_recommendations = {}\n",
        "for customer_id in customer_ids[:20]:\n",
        "    similar_customers = find_similar_customers(customer_id, similarity_matrix, customer_ids)\n",
        "    lookalike_recommendations[customer_id] = similar_customers\n",
        "\n",
        "# Save recommendations to CSV\n",
        "recommendations_df = pd.DataFrame({\n",
        "    'CustomerID': lookalike_recommendations.keys(),\n",
        "    'SimilarCustomers': [str(v) for v in lookalike_recommendations.values()]\n",
        "})\n",
        "recommendations_df.to_csv('Lookalike_Recommendations.csv', index=False)\n",
        "\n",
        "# Print sample recommendations\n",
        "print(recommendations_df.head())"
      ],
      "cell_type": "code",
      "metadata": {
        "colab": {
          "base_uri": "https://localhost:8080/"
        },
        "id": "S70vA8hDpmT_",
        "outputId": "34be08a5-fff1-406c-a5ca-b0d8dfb89d74"
      },
      "execution_count": null,
      "outputs": [
        {
          "output_type": "stream",
          "name": "stdout",
          "text": [
            "  CustomerID                                   SimilarCustomers\n",
            "0      C0001  [('C0184', 0.9179566297070914), ('C0091', 0.89...\n",
            "1      C0002  [('C0106', 0.9239472508196769), ('C0134', 0.91...\n",
            "2      C0003  [('C0076', 0.9790270885835207), ('C0031', 0.96...\n",
            "3      C0004  [('C0165', 0.9621825203696691), ('C0169', 0.93...\n",
            "4      C0005  [('C0140', 0.9934685775641008), ('C0186', 0.87...\n"
          ]
        }
      ]
    }
  ]
}